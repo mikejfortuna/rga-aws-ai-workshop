{
 "cells": [
  {
   "cell_type": "markdown",
   "metadata": {},
   "source": [
    "## Running the model locally ##"
   ]
  },
  {
   "cell_type": "code",
   "execution_count": null,
   "metadata": {},
   "outputs": [],
   "source": [
    "!pip install nvidia-ml-py3\n",
    "!pip install fairseq\n",
    "import nltk\n",
    "nltk.download('punkt')\n",
    "\n",
    "from run_inf import Roberta # this is my inference/ prediction code\n",
    "import pandas as pd\n",
    "import random\n"
   ]
  },
  {
   "cell_type": "markdown",
   "metadata": {},
   "source": [
    "Download trained model to whatever machine you're on and set `model_dir`\n",
    "\n",
    "Then run `model.classify(comments)`"
   ]
  },
  {
   "cell_type": "code",
   "execution_count": null,
   "metadata": {},
   "outputs": [],
   "source": [
    "!wget https://storage.googleapis.com/poloma-models/airbnb_model.tar.gz --directory-prefix=bert\n",
    "!tar -xvzf bert/airbnb_model.tar.gz -C bert"
   ]
  },
  {
   "cell_type": "code",
   "execution_count": null,
   "metadata": {
    "scrolled": true
   },
   "outputs": [],
   "source": [
    "model = Roberta(use_gpu=False, model_dir='bert/airbnb_train/')"
   ]
  },
  {
   "cell_type": "code",
   "execution_count": null,
   "metadata": {},
   "outputs": [],
   "source": [
    "# NEED THE more_review.tsv DATASET\n",
    "\n",
    "#df = pd.read_csv('./more_reviews.tsv', sep='\\t')\n",
    "#newdf = df[['Comment']]\n",
    "#newdf.columns = ['text']"
   ]
  },
  {
   "cell_type": "code",
   "execution_count": null,
   "metadata": {},
   "outputs": [],
   "source": [
    "# NEED THE more_review.tsv DATASET\n",
    "\n",
    "#preds = []\n",
    "#size = len(newdf.index)\n",
    "#for i, row in newdf.iterrows():\n",
    "#    preds.append(model.classify(row['text']))\n",
    "#    print('on sample {} out of {}'.format(i, size))\n",
    "#newdf = pd.DataFrame(preds)\n",
    "#newdf.to_csv('preds.csv')"
   ]
  },
  {
   "attachments": {},
   "cell_type": "markdown",
   "metadata": {},
   "source": [
    "**Try the following reviews:**\n",
    "\n",
    "We enjoyed our stay at Rod's place! The pictures are accurate, and the view is truly amazing. The apartment was clean, and we loved the amenities such as the outdoor pool, the game room with pool table, the gym, and the roof deck where we could see the Navy Pier fireworks in the distance. The location worked well. Not far from the subway, walking distance to many attractions, and several restaurants and convenience stores right there in case we needed something. We did not meet Rod, but he communicated almost immediately when we had questions, offered helpful tips with public transit, and his check-in directions were clear. Very happy with this experience!\n",
    "\n",
    "\n",
    "Loveeeeee this place! Its make me and my friend feel like a home-y! We barely couldn’t get out of bed. We had relaxing vibe around here. This is the best best best birthday surprise for my best friend and she love it! So is Marilee, a dog was too chilling! This is our first best experience ever to book the first Airbnb spot! I’m so glad I chose the right one! Thank you so much for allowing us to stay extra night!! We couldn’t stop talking about how much we had so much fun and we literally chilling lot there. Your place are so relaxing and perfect for stress-free mini vacation! - - For anyone you who planning on going to Chicago! Book this place! Trust me, it’s a lifesaver! These hosts are extremely outgoing, lovely couple with sweet personality! They would check on you to make sure everything you need to keep you comfort! - - Oh on behalf, I couldn’t live without their outdoor hot tub and mediated room! ❤️\n",
    "<br>\n",
    "**Ground truth is GREAT**\n",
    "\n",
    "\n",
    "Just like everyone else said, the view is spectacular. This apt is sparkling clean and breathtakingly beautiful. I was in Chicago for a work meeting and loved coming back in the evenings to this comfortable, homely, beautiful apt. I had no trouble getting in each time.. the women at the front desk were all friendly (I made a point of saying hello to each of them so they were greeting me like old friends after 2 days). It's close to everything - small market just 200 feet away allowed me to stock the fridge. I highly recommend Rod and his lovely apt.\n",
    "<br>\n",
    "**Ground truth is NOTGREAT)**\n",
    "\n"
   ]
  },
  {
   "cell_type": "code",
   "execution_count": null,
   "metadata": {},
   "outputs": [],
   "source": [
    "model.classify(\"Just like everyone else said, the view is spectacular. This apt is sparkling clean and breathtakingly beautiful. I was in Chicago for a work meeting and loved coming back in the evenings to this comfortable, homely, beautiful apt. I had no trouble getting in each time.. the women at the front desk were all friendly (I made a point of saying hello to each of them so they were greeting me like old friends after 2 days). It's close to everything - small market just 200 feet away allowed me to stock the fridge. I highly recommend Rod and his lovely apt.\", 1)"
   ]
  },
  {
   "cell_type": "code",
   "execution_count": null,
   "metadata": {},
   "outputs": [],
   "source": [
    "preds"
   ]
  },
  {
   "cell_type": "markdown",
   "metadata": {},
   "source": [
    "## Data Augmentation\n",
    "\n",
    "- Chunk reviews from original set (~1300) into groups of 3 sentences and randomly include one of the sentences from last chunk in current. This results in data set ~5000\n",
    "- Use https://www.snorkel.org/use-cases/02-spam-data-augmentation-tutorial to augment the data set with the following permutations:\n",
    "   ```\n",
    "  change_person,\n",
    "  replace_noun_with_synonym,\n",
    "  replace_adjective_with_synonym\n",
    "  ```\n",
    "- Split resulting data set (~9000) into 80% training set, 20% eval set\n",
    "\n",
    "## Training\n",
    "- Use pretrained ROBERTA large model from Facebook AI https://github.com/pytorch/fairseq/tree/master/examples/roberta\n",
    "- Follow this to fientune train on a single Nvidia V100 GPU https://github.com/pytorch/fairseq/blob/master/examples/roberta/README.custom_classification.md for 10 epochs (~1hr)\n",
    "- gets ~96% eval accuracy"
   ]
  },
  {
   "cell_type": "code",
   "execution_count": null,
   "metadata": {},
   "outputs": [],
   "source": []
  }
 ],
 "metadata": {
  "kernelspec": {
   "display_name": "conda_pytorch_p36",
   "language": "python",
   "name": "conda_pytorch_p36"
  },
  "language_info": {
   "codemirror_mode": {
    "name": "ipython",
    "version": 3
   },
   "file_extension": ".py",
   "mimetype": "text/x-python",
   "name": "python",
   "nbconvert_exporter": "python",
   "pygments_lexer": "ipython3",
   "version": "3.6.5"
  }
 },
 "nbformat": 4,
 "nbformat_minor": 2
}
